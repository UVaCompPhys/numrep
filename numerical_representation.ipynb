{
 "cells": [
  {
   "cell_type": "markdown",
   "id": "fcfec64d-91f9-40c2-ad7a-6aaff38063ef",
   "metadata": {
    "tags": []
   },
   "source": [
    "# Numerical representation\n",
    "\n",
    "The following code examine the binary representation of integers and floats in C++.  Examine the results in cells 3--6.  Try some of your own values and see if you can recognize the patterns discussed in the lecture."
   ]
  },
  {
   "cell_type": "code",
   "execution_count": 7,
   "id": "ab47241b-785e-4a28-95d4-77f4840a2cfa",
   "metadata": {},
   "outputs": [],
   "source": [
    "import ROOT as r"
   ]
  },
  {
   "cell_type": "code",
   "execution_count": 11,
   "id": "512535d2-171d-4766-9e08-85b356d312d8",
   "metadata": {},
   "outputs": [
    {
     "name": "stderr",
     "output_type": "stream",
     "text": [
      "input_line_53:6:6: error: redefinition of 'print_i'\n",
      "void print_i(int a){\n",
      "     ^\n",
      "input_line_48:5:6: note: previous definition is here\n",
      "void print_i(int a){\n",
      "     ^\n",
      "input_line_53:21:6: error: redefinition of 'print_f'\n",
      "void print_f(float b){\n",
      "     ^\n",
      "input_line_48:20:6: note: previous definition is here\n",
      "void print_f(float b){\n",
      "     ^\n"
     ]
    }
   ],
   "source": [
    "%%cpp -d\n",
    "\n",
    "// Some helper functions to examine the bitwise representation of numbers\n",
    "// Note: this cell can only be run once.  If you make changes restart the kernel and run it again.\n",
    "\n",
    "// print an integer using three notations\n",
    "void print_i(int a){\n",
    "  printf(\"--- Integer data ---\");\n",
    "  if (a<0) printf(\" (twos compliment)\");\n",
    "  printf(\"\\nDecimal representation:   %d\\n\",a);\n",
    "  printf(\"    Hex representation: 0x%x\\n\",a);\n",
    "  printf(\" Binary representation:   \");\n",
    "  for (int i = 31; i>=0; i--){\n",
    "    bool set = (a & 1<<i);\n",
    "    if (i%4 || !i) printf(\"%1d\", set);\n",
    "    else printf(\"%1d.\", set);\n",
    "  }\n",
    "  printf(\"\\n\");\n",
    "}\n",
    "\n",
    "// print a float using its decimal and binary representation\n",
    "void print_f(float b){\n",
    "  const unsigned bias=127;\n",
    "  printf(\"--- float data ---\\n\");\n",
    "  printf(\"Decimal representation:   %g\\n\",b);\n",
    "  printf(\" Binary representation:   \");\n",
    "  unsigned int *a = (unsigned int*)&b;\n",
    "  for (int i = 31; i>=0; i--){\n",
    "    if (i==31 || i == 23) printf(\"%1d | \", ((*a & 1<<i) != 0));\n",
    "    else printf(\"%1d\",((*a & 1<<i) != 0));\n",
    "  }\n",
    "  unsigned exponent = (*a >> 23) & 0xff;\n",
    "  printf(\"  (exp = %d)\\n\",exponent-bias);\n",
    "}"
   ]
  },
  {
   "cell_type": "code",
   "execution_count": 12,
   "id": "8ea4a93e-ba0d-4462-b260-1713a5e610d4",
   "metadata": {},
   "outputs": [
    {
     "name": "stdout",
     "output_type": "stream",
     "text": [
      "--- Integer data ---\n",
      "Decimal representation:   1\n",
      "    Hex representation: 0x1\n",
      " Binary representation:   0000.0000.0000.0000.0000.0000.0000.0001\n",
      "--- Integer data --- (twos compliment)\n",
      "Decimal representation:   -1\n",
      "    Hex representation: 0xffffffff\n",
      " Binary representation:   1111.1111.1111.1111.1111.1111.1111.1111\n"
     ]
    }
   ],
   "source": [
    "r.print_i(1)\n",
    "r.print_i(-1)"
   ]
  },
  {
   "cell_type": "code",
   "execution_count": 13,
   "id": "811cb87f-2010-4a15-bca5-226a47ff5931",
   "metadata": {},
   "outputs": [
    {
     "name": "stdout",
     "output_type": "stream",
     "text": [
      "--- Integer data ---\n",
      "Decimal representation:   123456\n",
      "    Hex representation: 0x1e240\n",
      " Binary representation:   0000.0000.0000.0001.1110.0010.0100.0000\n",
      "--- Integer data --- (twos compliment)\n",
      "Decimal representation:   -123456\n",
      "    Hex representation: 0xfffe1dc0\n",
      " Binary representation:   1111.1111.1111.1110.0001.1101.1100.0000\n"
     ]
    }
   ],
   "source": [
    "r.print_i(123456)\n",
    "r.print_i(-123456)"
   ]
  },
  {
   "cell_type": "code",
   "execution_count": 14,
   "id": "f06c1974-b675-4baf-be47-9ce208438c65",
   "metadata": {},
   "outputs": [
    {
     "name": "stdout",
     "output_type": "stream",
     "text": [
      "--- float data ---\n",
      "Decimal representation:   1.9e+12\n",
      " Binary representation:   0 | 10100111 | 10111010011000001101010  (exp = 40)\n",
      "--- float data ---\n",
      "Decimal representation:   -1.9e+12\n",
      " Binary representation:   1 | 10100111 | 10111010011000001101010  (exp = 40)\n"
     ]
    }
   ],
   "source": [
    "r.print_f(1.9e12)\n",
    "r.print_f(-1.9e12)"
   ]
  },
  {
   "cell_type": "code",
   "execution_count": 6,
   "id": "a3332cff-23eb-42be-8ba7-d5f246cbdc26",
   "metadata": {},
   "outputs": [
    {
     "name": "stdout",
     "output_type": "stream",
     "text": [
      "--- float data ---\n",
      "Decimal representation:   1024\n",
      " Binary representation:   0 | 10001001 | 00000000000000000000000  (exp = 10)\n",
      "--- float data ---\n",
      "Decimal representation:   0.000976562\n",
      " Binary representation:   0 | 01110101 | 00000000000000000000000  (exp = -10)\n"
     ]
    }
   ],
   "source": [
    "r.print_f(1024.)\n",
    "r.print_f(1.0/1024)"
   ]
  }
 ],
 "metadata": {
  "kernelspec": {
   "display_name": "Python 3 (ipykernel)",
   "language": "python",
   "name": "python3"
  },
  "language_info": {
   "codemirror_mode": {
    "name": "ipython",
    "version": 3
   },
   "file_extension": ".py",
   "mimetype": "text/x-python",
   "name": "python",
   "nbconvert_exporter": "python",
   "pygments_lexer": "ipython3",
   "version": "3.9.13"
  }
 },
 "nbformat": 4,
 "nbformat_minor": 5
}
